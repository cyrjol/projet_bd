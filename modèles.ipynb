{
 "cells": [
  {
   "cell_type": "code",
   "execution_count": 2,
   "id": "4072b93e",
   "metadata": {},
   "outputs": [],
   "source": [
    "import pandas as pd\n",
    "import numpy as np\n",
    "from sklearn.model_selection import train_test_split\n",
    "from sklearn.preprocessing import StandardScaler, MinMaxScaler\n",
    "from sklearn.linear_model import LogisticRegression\n",
    "from sklearn.metrics import accuracy_score\n",
    "from sklearn import metrics\n",
    "\n"
   ]
  },
  {
   "cell_type": "code",
   "execution_count": 52,
   "id": "6dd62868",
   "metadata": {},
   "outputs": [
    {
     "name": "stdout",
     "output_type": "stream",
     "text": [
      "Defaulting to user installation because normal site-packages is not writeable\n",
      "Collecting pretty-confusion-matrix\n",
      "  Downloading pretty_confusion_matrix-0.1.1-py3-none-any.whl (9.6 kB)\n",
      "Requirement already satisfied: pandas<2.0.0,>=1.3.4 in c:\\programdata\\anaconda3\\lib\\site-packages (from pretty-confusion-matrix) (1.4.2)\n",
      "Requirement already satisfied: matplotlib<4.0.0,>=3.5.0 in c:\\programdata\\anaconda3\\lib\\site-packages (from pretty-confusion-matrix) (3.5.1)\n",
      "Collecting sklearn<0.1,>=0.0\n",
      "  Downloading sklearn-0.0.tar.gz (1.1 kB)\n",
      "Collecting pre-commit<3.0.0,>=2.12.1\n",
      "  Downloading pre_commit-2.19.0-py2.py3-none-any.whl (199 kB)\n",
      "Requirement already satisfied: numpy<2.0.0,>=1.21.4 in c:\\programdata\\anaconda3\\lib\\site-packages (from pretty-confusion-matrix) (1.21.5)\n",
      "Requirement already satisfied: flake8<4.0.0,>=3.9.2 in c:\\programdata\\anaconda3\\lib\\site-packages (from pretty-confusion-matrix) (3.9.2)\n",
      "Collecting black<22.0,>=21.5b0\n",
      "  Downloading black-21.12b0-py3-none-any.whl (156 kB)\n",
      "Requirement already satisfied: seaborn<0.12.0,>=0.11.2 in c:\\programdata\\anaconda3\\lib\\site-packages (from pretty-confusion-matrix) (0.11.2)\n",
      "Requirement already satisfied: isort<6.0.0,>=5.8.0 in c:\\programdata\\anaconda3\\lib\\site-packages (from pretty-confusion-matrix) (5.9.3)\n",
      "Collecting pathspec<1,>=0.9.0\n",
      "  Downloading pathspec-0.9.0-py2.py3-none-any.whl (31 kB)\n",
      "Requirement already satisfied: mypy-extensions>=0.4.3 in c:\\programdata\\anaconda3\\lib\\site-packages (from black<22.0,>=21.5b0->pretty-confusion-matrix) (0.4.3)\n",
      "Requirement already satisfied: tomli<2.0.0,>=0.2.6 in c:\\programdata\\anaconda3\\lib\\site-packages (from black<22.0,>=21.5b0->pretty-confusion-matrix) (1.2.2)\n",
      "Collecting platformdirs>=2\n",
      "  Downloading platformdirs-2.5.2-py3-none-any.whl (14 kB)\n",
      "Requirement already satisfied: typing-extensions>=3.10.0.0 in c:\\programdata\\anaconda3\\lib\\site-packages (from black<22.0,>=21.5b0->pretty-confusion-matrix) (4.1.1)\n",
      "Requirement already satisfied: click>=7.1.2 in c:\\programdata\\anaconda3\\lib\\site-packages (from black<22.0,>=21.5b0->pretty-confusion-matrix) (8.0.4)\n",
      "Requirement already satisfied: colorama in c:\\programdata\\anaconda3\\lib\\site-packages (from click>=7.1.2->black<22.0,>=21.5b0->pretty-confusion-matrix) (0.4.4)\n",
      "Requirement already satisfied: pycodestyle<2.8.0,>=2.7.0 in c:\\programdata\\anaconda3\\lib\\site-packages (from flake8<4.0.0,>=3.9.2->pretty-confusion-matrix) (2.7.0)\n",
      "Requirement already satisfied: mccabe<0.7.0,>=0.6.0 in c:\\programdata\\anaconda3\\lib\\site-packages (from flake8<4.0.0,>=3.9.2->pretty-confusion-matrix) (0.6.1)\n",
      "Requirement already satisfied: pyflakes<2.4.0,>=2.3.0 in c:\\programdata\\anaconda3\\lib\\site-packages (from flake8<4.0.0,>=3.9.2->pretty-confusion-matrix) (2.3.1)\n",
      "Requirement already satisfied: fonttools>=4.22.0 in c:\\programdata\\anaconda3\\lib\\site-packages (from matplotlib<4.0.0,>=3.5.0->pretty-confusion-matrix) (4.25.0)\n",
      "Requirement already satisfied: kiwisolver>=1.0.1 in c:\\programdata\\anaconda3\\lib\\site-packages (from matplotlib<4.0.0,>=3.5.0->pretty-confusion-matrix) (1.3.2)\n",
      "Requirement already satisfied: packaging>=20.0 in c:\\programdata\\anaconda3\\lib\\site-packages (from matplotlib<4.0.0,>=3.5.0->pretty-confusion-matrix) (21.3)\n",
      "Requirement already satisfied: python-dateutil>=2.7 in c:\\programdata\\anaconda3\\lib\\site-packages (from matplotlib<4.0.0,>=3.5.0->pretty-confusion-matrix) (2.8.2)\n",
      "Requirement already satisfied: pyparsing>=2.2.1 in c:\\programdata\\anaconda3\\lib\\site-packages (from matplotlib<4.0.0,>=3.5.0->pretty-confusion-matrix) (3.0.4)\n",
      "Requirement already satisfied: pillow>=6.2.0 in c:\\programdata\\anaconda3\\lib\\site-packages (from matplotlib<4.0.0,>=3.5.0->pretty-confusion-matrix) (9.0.1)\n",
      "Requirement already satisfied: cycler>=0.10 in c:\\programdata\\anaconda3\\lib\\site-packages (from matplotlib<4.0.0,>=3.5.0->pretty-confusion-matrix) (0.11.0)\n",
      "Requirement already satisfied: pytz>=2020.1 in c:\\programdata\\anaconda3\\lib\\site-packages (from pandas<2.0.0,>=1.3.4->pretty-confusion-matrix) (2021.3)\n",
      "Collecting nodeenv>=0.11.1\n",
      "  Downloading nodeenv-1.6.0-py2.py3-none-any.whl (21 kB)\n",
      "Requirement already satisfied: toml in c:\\programdata\\anaconda3\\lib\\site-packages (from pre-commit<3.0.0,>=2.12.1->pretty-confusion-matrix) (0.10.2)\n",
      "Requirement already satisfied: pyyaml>=5.1 in c:\\programdata\\anaconda3\\lib\\site-packages (from pre-commit<3.0.0,>=2.12.1->pretty-confusion-matrix) (6.0)\n",
      "Collecting virtualenv>=20.0.8\n",
      "  Downloading virtualenv-20.14.1-py2.py3-none-any.whl (8.8 MB)\n",
      "Collecting identify>=1.0.0\n",
      "  Downloading identify-2.5.1-py2.py3-none-any.whl (98 kB)\n",
      "Collecting cfgv>=2.0.0\n",
      "  Downloading cfgv-3.3.1-py2.py3-none-any.whl (7.3 kB)\n",
      "Requirement already satisfied: six>=1.5 in c:\\programdata\\anaconda3\\lib\\site-packages (from python-dateutil>=2.7->matplotlib<4.0.0,>=3.5.0->pretty-confusion-matrix) (1.16.0)\n",
      "Requirement already satisfied: scipy>=1.0 in c:\\programdata\\anaconda3\\lib\\site-packages (from seaborn<0.12.0,>=0.11.2->pretty-confusion-matrix) (1.7.3)\n",
      "Requirement already satisfied: scikit-learn in c:\\programdata\\anaconda3\\lib\\site-packages (from sklearn<0.1,>=0.0->pretty-confusion-matrix) (1.0.2)\n",
      "Requirement already satisfied: filelock<4,>=3.2 in c:\\programdata\\anaconda3\\lib\\site-packages (from virtualenv>=20.0.8->pre-commit<3.0.0,>=2.12.1->pretty-confusion-matrix) (3.6.0)\n",
      "Collecting distlib<1,>=0.3.1\n",
      "  Downloading distlib-0.3.4-py2.py3-none-any.whl (461 kB)\n",
      "Requirement already satisfied: threadpoolctl>=2.0.0 in c:\\programdata\\anaconda3\\lib\\site-packages (from scikit-learn->sklearn<0.1,>=0.0->pretty-confusion-matrix) (2.2.0)\n",
      "Requirement already satisfied: joblib>=0.11 in c:\\programdata\\anaconda3\\lib\\site-packages (from scikit-learn->sklearn<0.1,>=0.0->pretty-confusion-matrix) (1.1.0)\n",
      "Building wheels for collected packages: sklearn\n",
      "  Building wheel for sklearn (setup.py): started\n",
      "  Building wheel for sklearn (setup.py): finished with status 'done'\n",
      "  Created wheel for sklearn: filename=sklearn-0.0-py2.py3-none-any.whl size=1310 sha256=4f66b2b251e9ad3521722d3dfb43595ba99f056fdcd34c8cb9855a040c1435ce\n",
      "  Stored in directory: c:\\users\\cjoly\\appdata\\local\\pip\\cache\\wheels\\e4\\7b\\98\\b6466d71b8d738a0c547008b9eb39bf8676d1ff6ca4b22af1c\n",
      "Note: you may need to restart the kernel to use updated packages.\n"
     ]
    },
    {
     "name": "stderr",
     "output_type": "stream",
     "text": [
      "  WARNING: The script virtualenv.exe is installed in 'C:\\Users\\cjoly\\AppData\\Roaming\\Python\\Python39\\Scripts' which is not on PATH.\n",
      "  Consider adding this directory to PATH or, if you prefer to suppress this warning, use --no-warn-script-location.\n",
      "  WARNING: The script nodeenv.exe is installed in 'C:\\Users\\cjoly\\AppData\\Roaming\\Python\\Python39\\Scripts' which is not on PATH.\n",
      "  Consider adding this directory to PATH or, if you prefer to suppress this warning, use --no-warn-script-location.\n",
      "  WARNING: The script identify-cli.exe is installed in 'C:\\Users\\cjoly\\AppData\\Roaming\\Python\\Python39\\Scripts' which is not on PATH.\n",
      "  Consider adding this directory to PATH or, if you prefer to suppress this warning, use --no-warn-script-location.\n",
      "  WARNING: The scripts pre-commit-validate-config.exe, pre-commit-validate-manifest.exe and pre-commit.exe are installed in 'C:\\Users\\cjoly\\AppData\\Roaming\\Python\\Python39\\Scripts' which is not on PATH.\n",
      "  Consider adding this directory to PATH or, if you prefer to suppress this warning, use --no-warn-script-location.\n",
      "  WARNING: The scripts black-primer.exe, black.exe and blackd.exe are installed in 'C:\\Users\\cjoly\\AppData\\Roaming\\Python\\Python39\\Scripts' which is not on PATH.\n",
      "  Consider adding this directory to PATH or, if you prefer to suppress this warning, use --no-warn-script-location.\n"
     ]
    },
    {
     "name": "stdout",
     "output_type": "stream",
     "text": [
      "Successfully built sklearn\n",
      "Installing collected packages: platformdirs, distlib, virtualenv, pathspec, nodeenv, identify, cfgv, sklearn, pre-commit, black, pretty-confusion-matrix\n",
      "Successfully installed black-21.12b0 cfgv-3.3.1 distlib-0.3.4 identify-2.5.1 nodeenv-1.6.0 pathspec-0.9.0 platformdirs-2.5.2 pre-commit-2.19.0 pretty-confusion-matrix-0.1.1 sklearn-0.0 virtualenv-20.14.1\n"
     ]
    }
   ],
   "source": [
    "pip install pretty-confusion-matrix"
   ]
  },
  {
   "cell_type": "code",
   "execution_count": 53,
   "id": "927b7cd1",
   "metadata": {},
   "outputs": [],
   "source": [
    "from pretty_confusion_matrix import pp_matrix_from_data"
   ]
  },
  {
   "cell_type": "code",
   "execution_count": 3,
   "id": "203f2f32",
   "metadata": {},
   "outputs": [],
   "source": [
    "df = pd.read_csv('C:/Users/cjoly/projet/Net1_CMH/Scenario-506/df.csv')\n",
    "y = pd.read_csv('C:/Users/cjoly/projet/Net1_CMH/Scenario-506/Labels.csv')\n"
   ]
  },
  {
   "cell_type": "code",
   "execution_count": 10,
   "id": "df1e897f",
   "metadata": {},
   "outputs": [],
   "source": [
    "y =y.drop(y.columns[0], axis=1)"
   ]
  },
  {
   "cell_type": "code",
   "execution_count": 41,
   "id": "5fafc87d",
   "metadata": {},
   "outputs": [],
   "source": [
    "X_train, X_test = train_test_split(df, test_size=0.2)\n",
    "y_train, y_test = train_test_split(y, test_size=0.2)"
   ]
  },
  {
   "cell_type": "code",
   "execution_count": 44,
   "id": "f255bcea",
   "metadata": {},
   "outputs": [],
   "source": [
    "scaler = MinMaxScaler()\n",
    "scaler.fit(X_train)\n",
    "\n",
    "X_train = scaler.transform(X_train)\n",
    "\n",
    "X_test = scaler.transform(X_test)"
   ]
  },
  {
   "cell_type": "code",
   "execution_count": null,
   "id": "70487399",
   "metadata": {},
   "outputs": [],
   "source": [
    "smote = SMOTE()\n",
    "X_train, y_train = smote.fit_resample(X_train, y_train)"
   ]
  },
  {
   "cell_type": "code",
   "execution_count": 63,
   "id": "5d810c53",
   "metadata": {},
   "outputs": [],
   "source": [
    "y_train=y_train.values.ravel()"
   ]
  },
  {
   "cell_type": "code",
   "execution_count": 64,
   "id": "7f22046c",
   "metadata": {},
   "outputs": [
    {
     "data": {
      "text/plain": [
       "array([0., 0., 0., ..., 0., 0., 0.])"
      ]
     },
     "execution_count": 64,
     "metadata": {},
     "output_type": "execute_result"
    }
   ],
   "source": [
    "y_train"
   ]
  },
  {
   "cell_type": "code",
   "execution_count": 83,
   "id": "621fb240",
   "metadata": {},
   "outputs": [
    {
     "data": {
      "text/plain": [
       "LogisticRegression(C=1)"
      ]
     },
     "execution_count": 83,
     "metadata": {},
     "output_type": "execute_result"
    }
   ],
   "source": [
    "model = LogisticRegression(C=1)\n",
    "model.fit(X_train, y_train)"
   ]
  },
  {
   "cell_type": "code",
   "execution_count": 84,
   "id": "c36d3549",
   "metadata": {},
   "outputs": [
    {
     "data": {
      "text/plain": [
       "array([0., 0., 0., ..., 0., 0., 0.])"
      ]
     },
     "execution_count": 84,
     "metadata": {},
     "output_type": "execute_result"
    }
   ],
   "source": [
    "y_pred = model.predict(X_test)\n",
    "y_pred"
   ]
  },
  {
   "cell_type": "code",
   "execution_count": 85,
   "id": "cb4ebcae",
   "metadata": {},
   "outputs": [
    {
     "data": {
      "text/plain": [
       "0.6894977168949772"
      ]
     },
     "execution_count": 85,
     "metadata": {},
     "output_type": "execute_result"
    }
   ],
   "source": [
    "accuracy_score(y_test, y_pred)"
   ]
  },
  {
   "cell_type": "code",
   "execution_count": 86,
   "id": "673e5c04",
   "metadata": {},
   "outputs": [
    {
     "data": {
      "image/png": "[encoded data removed]",
      "text/plain": [
       "<Figure size 648x648 with 1 Axes>"
      ]
     },
     "metadata": {
      "needs_background": "light"
     },
     "output_type": "display_data"
    }
   ],
   "source": [
    "class_names = np.array(['ok', 'leak'])\n",
    "pp_matrix_from_data(y_test, y_pred)"
   ]
  },
  {
   "cell_type": "code",
   "execution_count": null,
   "id": "6c116cd1",
   "metadata": {},
   "outputs": [],
   "source": []
  }
 ],
 "metadata": {
  "kernelspec": {
   "display_name": "Python 3 (ipykernel)",
   "language": "python",
   "name": "python3"
  },
  "language_info": {
   "codemirror_mode": {
    "name": "ipython",
    "version": 3
   },
   "file_extension": ".py",
   "mimetype": "text/x-python",
   "name": "python",
   "nbconvert_exporter": "python",
   "pygments_lexer": "ipython3",
   "version": "3.8.13"
  }
 },
 "nbformat": 4,
 "nbformat_minor": 5
}
